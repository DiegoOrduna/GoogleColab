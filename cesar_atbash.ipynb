{
  "nbformat": 4,
  "nbformat_minor": 0,
  "metadata": {
    "colab": {
      "name": "cesar_atbash.ipynb",
      "provenance": [],
      "collapsed_sections": [],
      "authorship_tag": "ABX9TyOWM1XpRN2klmyMVtBrDRHJ",
      "include_colab_link": true
    },
    "kernelspec": {
      "name": "python3",
      "display_name": "Python 3"
    },
    "language_info": {
      "name": "python"
    }
  },
  "cells": [
    {
      "cell_type": "markdown",
      "metadata": {
        "id": "view-in-github",
        "colab_type": "text"
      },
      "source": [
        "<a href=\"https://colab.research.google.com/github/DiegoOrduna/GoogleColab/blob/master/cesar_atbash.ipynb\" target=\"_parent\"><img src=\"https://colab.research.google.com/assets/colab-badge.svg\" alt=\"Open In Colab\"/></a>"
      ]
    },
    {
      "cell_type": "code",
      "execution_count": null,
      "metadata": {
        "id": "7lZZRPYOtjH9",
        "colab": {
          "base_uri": "https://localhost:8080/"
        },
        "outputId": "3908273a-2313-49b6-aa1d-dda529b0360e"
      },
      "outputs": [
        {
          "output_type": "stream",
          "name": "stdout",
          "text": [
            "Ingresa la opcion deseada:\n",
            "1.- Cesar\n",
            "2.- Atbash\n",
            "1\n",
            "Ingresa la cadena a descifrar: Asd\n",
            "Ingresa el número del metodo cesar (entero): 9\n",
            "Cadena cifrada:\n",
            " Asd\n",
            "Cadena descifrada:\n",
            " Rj[\n"
          ]
        }
      ],
      "source": [
        "def decryptCesar(cypher, cesar):\n",
        "    text = \"\"\n",
        "    escape = \"1234567890,.&*()!@#$%^ \"\n",
        "    for i in range(len(cypher)):\n",
        "        char = cypher[i]\n",
        "        ascii = ord(char)\n",
        "        #print(f\"char: {char} ascii: {ascii}\")\n",
        "        if char not in escape:\n",
        "            if ascii == 65:\n",
        "                ascii = 91\n",
        "            if ascii == 97:\n",
        "                ascii = 123\n",
        "            text += chr(ascii - cesar)\n",
        "        else:\n",
        "            text += char\n",
        "    return text\n",
        "\n",
        "\n",
        "def decryptAtbash(cypher):\n",
        "    cypher = cypher.lower()\n",
        "    abc = \" abcdefghijklmnropqrstuvwxyz\"\n",
        "    cba = \" zyxwvutsrqpornmlkjihgfedcba\"\n",
        "    text = \"\"\n",
        "    for i in range(len(cypher)):\n",
        "        try:\n",
        "            index = abc.index(cypher[i])\n",
        "            text += cba[index]\n",
        "        except:\n",
        "            text += cypher[i]\n",
        "    return text\n",
        "\n",
        "def main():\n",
        "  flag = False\n",
        "  while not flag:\n",
        "      option = int(input(\"Ingresa la opcion deseada:\\n1.- Cesar\\n2.- Atbash\\n\"))\n",
        "      if option == 0 or option == 1:\n",
        "          flag = True\n",
        "\n",
        "  if option == 1:\n",
        "      cypher = str(input(\"Ingresa la cadena a descifrar: \"))\n",
        "      cesar = int(input(\"Ingresa el número del metodo cesar (entero): \"))\n",
        "      decrypted = decryptCesar(cypher, cesar)\n",
        "      print(\"Cadena cifrada:\\n\", cypher)\n",
        "      print(\"Cadena descifrada:\\n\", decrypted)\n",
        "  if option == 2:\n",
        "      cypher = str(input(\"Ingresa la cadena a descifrar: \"))\n",
        "      decrypted = decryptAtbash(cypher)\n",
        "      print(\"Cadena cifrada:\\n\", cypher)\n",
        "      print(\"Cadena descifrada:\\n\", decrypted)\n",
        "main()\n",
        "  # TEST CESAR1:\n",
        "  # njsbe efusbt qjabssb\n",
        "  # TEST CESAR6\n",
        "  # Ykx u tu ykx, kyg ky rg iakyzout\n"
      ]
    }
  ]
}