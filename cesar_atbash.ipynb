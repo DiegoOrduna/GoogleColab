{
  "nbformat": 4,
  "nbformat_minor": 0,
  "metadata": {
    "colab": {
      "name": "cesar_atbash.ipynb",
      "provenance": [],
      "collapsed_sections": [],
      "authorship_tag": "ABX9TyPSeZmC4c/ixFcJMVuL2+Rj"
    },
    "kernelspec": {
      "name": "python3",
      "display_name": "Python 3"
    },
    "language_info": {
      "name": "python"
    }
  },
  "cells": [
    {
      "cell_type": "code",
      "execution_count": null,
      "metadata": {
        "id": "7lZZRPYOtjH9",
        "outputId": "10f18d29-2696-4b13-8b04-e7dc55ad68a9",
        "colab": {
          "base_uri": "https://localhost:8080/"
        }
      },
      "outputs": [
        {
          "output_type": "stream",
          "name": "stdout",
          "text": [
            "Ingresa la opcion deseada:\n",
            "1.- Cesar\n",
            "2.- Atbash\n",
            "0\n",
            "Ingresa la opcion deseada:\n",
            "1.- Cesar\n",
            "2.- Atbash\n",
            "3\n",
            "Ingresa la opcion deseada:\n",
            "1.- Cesar\n",
            "2.- Atbash\n",
            "2\n",
            "Ingresa la cadena a descifrar: Si\n",
            "Cadena cifrada:\n",
            " Si\n",
            "Cadena descifrada:\n",
            " hr\n"
          ]
        }
      ],
      "source": [
        "def decryptCesar(cypher, cesar):\n",
        "    text = \"\"\n",
        "    escape = \"1234567890,.&*()!@#$%^ \"\n",
        "    for i in range(len(cypher)):\n",
        "        char = cypher[i]\n",
        "        ascii = ord(char)\n",
        "        #print(f\"char: {char} ascii: {ascii}\")\n",
        "        if char not in escape:\n",
        "            if ascii == 65:\n",
        "                ascii = 91\n",
        "            if ascii == 97:\n",
        "                ascii = 123\n",
        "            text += chr(ascii - cesar)\n",
        "        else:\n",
        "            text += char\n",
        "    return text\n",
        "\n",
        "def decryptAtbash(cypher):\n",
        "    cypher = cypher.lower()\n",
        "    abc = \" abcdefghijklmnropqrstuvwxyz\"\n",
        "    cba = \" zyxwvutsrqpornmlkjihgfedcba\"\n",
        "    text = \"\"\n",
        "    for i in range(len(cypher)):\n",
        "        try:\n",
        "            index = abc.index(cypher[i])\n",
        "            text += cba[index]\n",
        "        except:\n",
        "            text += cypher[i]\n",
        "    return text\n",
        "\n",
        "def main():\n",
        "  flag = False\n",
        "  while not flag:\n",
        "      option = int(input(\"Ingresa la opcion deseada:\\n1.- Cesar\\n2.- Atbash\\n\"))\n",
        "      if option == 1 or option == 2:\n",
        "          flag = True\n",
        "\n",
        "  if option == 1:\n",
        "      cypher = str(input(\"Ingresa la cadena a descifrar: \"))\n",
        "      cesar = int(input(\"Ingresa el número del metodo cesar (entero): \"))\n",
        "      decrypted = decryptCesar(cypher, cesar)\n",
        "      print(\"Cadena cifrada:\\n\", cypher)\n",
        "      print(\"Cadena descifrada:\\n\", decrypted)\n",
        "  if option == 2:\n",
        "      cypher = str(input(\"Ingresa la cadena a descifrar: \"))\n",
        "      decrypted = decryptAtbash(cypher)\n",
        "      print(\"Cadena cifrada:\\n\", cypher)\n",
        "      print(\"Cadena descifrada:\\n\", decrypted)\n",
        "main()\n",
        "  # TEST CESAR1:\n",
        "  # njsbe efusbt qjabssb\n",
        "  # TEST CESAR6\n",
        "  # Ykx u tu ykx, kyg ky rg iakyzout\n"
      ]
    }
  ]
}