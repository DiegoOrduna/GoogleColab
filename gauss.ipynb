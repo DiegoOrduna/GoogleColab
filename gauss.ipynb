{
  "nbformat": 4,
  "nbformat_minor": 0,
  "metadata": {
    "colab": {
      "name": "gauss.ipynb",
      "provenance": [],
      "collapsed_sections": [],
      "authorship_tag": "ABX9TyMhWmTrc1Z/VWopIvPDOSF1"
    },
    "kernelspec": {
      "name": "python3",
      "display_name": "Python 3"
    }
  },
  "cells": [
    {
      "cell_type": "code",
      "metadata": {
        "id": "fOxx6UNpAO8x",
        "colab": {
          "base_uri": "https://localhost:8080/",
          "height": 119
        },
        "outputId": "588c433c-8230-4b6e-9de3-4d0e196ea53a"
      },
      "source": [
        "#Eliminación Gaussiana\n",
        "#Función para mostrar la matriz\n",
        "\n",
        "def mostrarMatriz(matriz,orden):\n",
        "\tfor i in range(0,orden):\n",
        "\t\tlinea = \"| \"\n",
        "\t\tfor j in range(orden+1):\n",
        "\t\t\tlinea +=  str(matriz[i][j])+\" \"\n",
        "\t\tlinea += \"| \"\n",
        "\t\tprint(linea)\t\n",
        "\t\t\t\n",
        "matriz = [[3,2,3,3], [1,3,1,-6], [5,1,3,12]]\n",
        "#Orden de la matriz\n",
        "orden=len(matriz) \n",
        "mostrarMatriz(matriz,orden);    \n",
        "#Recorrer la matriz \n",
        "for j in range(0,orden+1):\n",
        "\tfor i in range(0, orden):\n",
        "\t\tif i>j:\n",
        "\t\t\t#Divir los elementos de la matriz\n",
        "\t\t\tdivision=matriz[i][j]/matriz[j][j]\n",
        "\t\t\tfor k in range(0, orden+1):\n",
        "\t\t\t\t#Obterner el nuevo valor para los elementos en la diagonal inferior\n",
        "\t\t\t\tmatriz[i][k]=matriz[i][k]-division*matriz[j][k];\n",
        "#Recorrer la matriz\n",
        "x = [0,0,0]\n",
        "for i in range(orden,0,-1):\n",
        "\tsuma=0\n",
        "\tfor j in range(i,orden):\n",
        "\t\tsuma=suma+matriz[i-1][j]*x[j]\n",
        "\t#Obtener los valores de las variables\n",
        "\tx[i-1]=((matriz[i-1][orden]-suma)/matriz[i-1][i-1])\t\n",
        "#Mostrar los valores de las variables\n",
        "for i in range(0,orden):\n",
        "\tprint(\"x\"+str(i)+\" = \"+str(x[i]))\n",
        "        "
      ],
      "execution_count": null,
      "outputs": [
        {
          "output_type": "stream",
          "text": [
            "| 3 2 3 3 | \n",
            "| 1 3 1 -6 | \n",
            "| 5 1 3 12 | \n",
            "x0 = 3.0\n",
            "x1 = -3.0\n",
            "x2 = -0.0\n"
          ],
          "name": "stdout"
        }
      ]
    },
    {
      "cell_type": "code",
      "metadata": {
        "id": "pgmbuat6ynPe"
      },
      "source": [
        "vIni = int(0)\n",
        "nNum = int(0) \n",
        "comp = int(1)\n",
        "resultado = int(0);\n",
        "while (vIni < 10 | vIni > 1000000):\n",
        "  vIni = int(input(\"Ingresa un número (2 - 6 cifras): \"))\n",
        "\n",
        "while (nNum < 1 | nNum > 4):\n",
        "  nNum = int(input(\"Cuantos Números Quieres Probar \"))"
      ],
      "execution_count": null,
      "outputs": []
    }
  ]
}